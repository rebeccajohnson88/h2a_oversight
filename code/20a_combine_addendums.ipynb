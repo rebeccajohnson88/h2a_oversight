{
 "cells": [
  {
   "cell_type": "markdown",
   "metadata": {},
   "source": [
    "# Imports "
   ]
  },
  {
   "cell_type": "code",
   "execution_count": 3,
   "metadata": {},
   "outputs": [],
   "source": [
    "## packages\n",
    "import pandas as pd\n",
    "import os\n",
    "\n",
    "\n",
    "## define constants\n",
    "GITHUB_DATA_PATH = \"../data/raw_data/\"\n",
    "\n",
    "## repeated printouts\n",
    "from IPython.core.interactiveshell import InteractiveShell\n",
    "InteractiveShell.ast_node_interactivity = \"all\""
   ]
  },
  {
   "cell_type": "markdown",
   "metadata": {},
   "source": [
    "# Read in addendums data and combine"
   ]
  },
  {
   "cell_type": "code",
   "execution_count": 4,
   "metadata": {},
   "outputs": [
    {
     "name": "stdout",
     "output_type": "stream",
     "text": [
      "There are 2 FOIA sheets\n"
     ]
    }
   ],
   "source": [
    "## read in multi-sheet excel file\n",
    "all_foia_sheets = pd.read_excel(GITHUB_DATA_PATH + \"FOIA_2021-F-05932_raw_data.xlsx\",\n",
    "                               sheet_name= None)\n",
    "\n",
    "print(\"There are %s FOIA sheets\"% len(all_foia_sheets))"
   ]
  },
  {
   "cell_type": "code",
   "execution_count": 12,
   "metadata": {},
   "outputs": [],
   "source": [
    "## stored as dictionary with sheets as different keys; extract to inspect\n",
    "fy20_addendums = all_foia_sheets['FOIA_2021-F-05932_FY2020']\n",
    "fy21_q1_addendums = all_foia_sheets['FOIA_2021-F-05932_FY2021_Q1']"
   ]
  },
  {
   "cell_type": "code",
   "execution_count": 28,
   "metadata": {},
   "outputs": [
    {
     "name": "stdout",
     "output_type": "stream",
     "text": [
      "There are 102317 rows and 13535 unique job ids\n"
     ]
    },
    {
     "data": {
      "text/plain": [
       "Index(['CASE_NUMBER', 'SECTION_NAME', 'SECTION_NUMBER', 'SECTION_DETAILS'], dtype='object')"
      ]
     },
     "execution_count": 28,
     "metadata": {},
     "output_type": "execute_result"
    }
   ],
   "source": [
    "## confirm same columns\n",
    "cols_20_not21 = set(fy20_addendums.columns).difference(fy21_q1_addendums.columns)\n",
    "cols_21_not20 = set(fy21_q1_addendums.columns).difference(fy20_addendums.columns)\n",
    "\n",
    "assert len(cols_20_not21) == 0\n",
    "assert len(cols_21_not20) == 0 \n",
    "\n",
    "## rowbind original dictionaries\n",
    "addendum_init = pd.concat(all_foia_sheets).reset_index()\n",
    "addendum_final = addendum_init[[col for col in addendum_init.columns if \"level\" not in col]]\n",
    "\n",
    "## print descriptives--- sections repeated across the same id\n",
    "print(\"There are %s rows and %s unique job ids\"% (addendum.shape[0], len(addendum.CASE_NUMBER.unique())))\n",
    "\n"
   ]
  },
  {
   "cell_type": "code",
   "execution_count": null,
   "metadata": {},
   "outputs": [],
   "source": [
    "# Clean and concatenate addendums"
   ]
  },
  {
   "cell_type": "code",
   "execution_count": 18,
   "metadata": {},
   "outputs": [
    {
     "name": "stdout",
     "output_type": "stream",
     "text": [
      "<class 'dict'>\n"
     ]
    }
   ],
   "source": [
    "## dictionary with two keys; one per sheet\n",
    "print(type(all_foia_sheets))\n",
    "\n",
    "## read in manually-combined data to see structure\n",
    "addendum = pd.read_csv(DROPBOX_DATA_PATH + \"FOIA_2021-F-05932_raw_data_combined.csv\")"
   ]
  },
  {
   "cell_type": "code",
   "execution_count": 27,
   "metadata": {},
   "outputs": [
    {
     "data": {
      "text/html": [
       "<div>\n",
       "<style scoped>\n",
       "    .dataframe tbody tr th:only-of-type {\n",
       "        vertical-align: middle;\n",
       "    }\n",
       "\n",
       "    .dataframe tbody tr th {\n",
       "        vertical-align: top;\n",
       "    }\n",
       "\n",
       "    .dataframe thead th {\n",
       "        text-align: right;\n",
       "    }\n",
       "</style>\n",
       "<table border=\"1\" class=\"dataframe\">\n",
       "  <thead>\n",
       "    <tr style=\"text-align: right;\">\n",
       "      <th></th>\n",
       "      <th>CASE_NUMBER</th>\n",
       "      <th>SECTION_NAME</th>\n",
       "      <th>SECTION_NUMBER</th>\n",
       "      <th>SECTION_DETAILS</th>\n",
       "    </tr>\n",
       "  </thead>\n",
       "  <tbody>\n",
       "    <tr>\n",
       "      <th>0</th>\n",
       "      <td>H-300-19274-066174</td>\n",
       "      <td>Meal Provision</td>\n",
       "      <td>E.1</td>\n",
       "      <td>Employer will furnish free and convenient cook...</td>\n",
       "    </tr>\n",
       "    <tr>\n",
       "      <th>1</th>\n",
       "      <td>H-300-19274-066174</td>\n",
       "      <td>Job Requirements</td>\n",
       "      <td>B.6</td>\n",
       "      <td>Three (3) months experience with references re...</td>\n",
       "    </tr>\n",
       "    <tr>\n",
       "      <th>2</th>\n",
       "      <td>H-300-19274-066174</td>\n",
       "      <td>Daily Transportation</td>\n",
       "      <td>F.1</td>\n",
       "      <td>Living &amp; laundry facilities available. Housing...</td>\n",
       "    </tr>\n",
       "    <tr>\n",
       "      <th>3</th>\n",
       "      <td>H-300-19274-066174</td>\n",
       "      <td>Job Requirements</td>\n",
       "      <td>B.6</td>\n",
       "      <td>Should the Employers worker’s compensation ins...</td>\n",
       "    </tr>\n",
       "    <tr>\n",
       "      <th>4</th>\n",
       "      <td>H-300-19274-066174</td>\n",
       "      <td>Daily Transportation</td>\n",
       "      <td>F.1</td>\n",
       "      <td>The employer shall provide transportation in t...</td>\n",
       "    </tr>\n",
       "  </tbody>\n",
       "</table>\n",
       "</div>"
      ],
      "text/plain": [
       "          CASE_NUMBER          SECTION_NAME SECTION_NUMBER  \\\n",
       "0  H-300-19274-066174        Meal Provision            E.1   \n",
       "1  H-300-19274-066174      Job Requirements            B.6   \n",
       "2  H-300-19274-066174  Daily Transportation            F.1   \n",
       "3  H-300-19274-066174      Job Requirements            B.6   \n",
       "4  H-300-19274-066174  Daily Transportation            F.1   \n",
       "\n",
       "                                     SECTION_DETAILS  \n",
       "0  Employer will furnish free and convenient cook...  \n",
       "1  Three (3) months experience with references re...  \n",
       "2  Living & laundry facilities available. Housing...  \n",
       "3  Should the Employers worker’s compensation ins...  \n",
       "4  The employer shall provide transportation in t...  "
      ]
     },
     "execution_count": 27,
     "metadata": {},
     "output_type": "execute_result"
    },
    {
     "data": {
      "text/plain": [
       "Index(['CASE_NUMBER', 'SECTION_NAME', 'SECTION_NUMBER', 'SECTION_DETAILS'], dtype='object')"
      ]
     },
     "execution_count": 27,
     "metadata": {},
     "output_type": "execute_result"
    },
    {
     "data": {
      "text/plain": [
       "(102317, 4)"
      ]
     },
     "execution_count": 27,
     "metadata": {},
     "output_type": "execute_result"
    },
    {
     "data": {
      "text/plain": [
       "(102317, 4)"
      ]
     },
     "execution_count": 27,
     "metadata": {},
     "output_type": "execute_result"
    }
   ],
   "source": [
    "addendum.head()\n",
    "addendum.columns\n",
    "\n",
    "## pd concat the dictionary\n",
    "addendum_code = pd.concat(all_foia_sheets).reset_index()\n",
    "addendum_code_keep = addendum_code[[col for col in addendum_code.columns if \"level\" not in col]]\n",
    "\n",
    "addendum.shape\n",
    "addendum_code_keep.shape\n",
    "\n",
    "## looks good; similarly, not writing over\n",
    "addendum_code_keep.to_csv(DROPBOX_DATA_PATH + \"FOIA_2021-F-05932_raw_data_combined_202021Q1.csv\",\n",
    "                         index = False)"
   ]
  }
 ],
 "metadata": {
  "kernelspec": {
   "display_name": "Python 3",
   "language": "python",
   "name": "python3"
  },
  "language_info": {
   "codemirror_mode": {
    "name": "ipython",
    "version": 3
   },
   "file_extension": ".py",
   "mimetype": "text/x-python",
   "name": "python",
   "nbconvert_exporter": "python",
   "pygments_lexer": "ipython3",
   "version": "3.8.3"
  }
 },
 "nbformat": 4,
 "nbformat_minor": 4
}

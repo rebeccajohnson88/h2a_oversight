{
 "cells": [
  {
   "cell_type": "code",
   "execution_count": 1,
   "id": "306c2e31",
   "metadata": {},
   "outputs": [],
   "source": [
    "import os\n",
    "import pandas as pd\n",
    "import numpy as np\n",
    "import datetime\n",
    "import yaml\n",
    "import re\n",
    "\n",
    "from IPython.core.interactiveshell import InteractiveShell\n",
    "InteractiveShell.ast_node_interactivity = \"all\"\n",
    "\n",
    "import datetime\n",
    "from datetime import datetime\n",
    "from datetime import date\n",
    "\n",
    "import nltk\n",
    "from nltk import word_tokenize\n",
    "\n",
    "# Google Cloud Language Translation API\n",
    "# We're using the basic version here == \"v2\" \n",
    "from google.cloud import translate_v2\n",
    "\n",
    "import timeit\n"
   ]
  },
  {
   "cell_type": "markdown",
   "id": "7bc093b2",
   "metadata": {},
   "source": [
    "## Read in Files & Data"
   ]
  },
  {
   "cell_type": "code",
   "execution_count": 2,
   "id": "60bf8310",
   "metadata": {},
   "outputs": [],
   "source": [
    "## Google Cloud API Credential\n",
    "os.environ['GOOGLE_APPLICATION_CREDENTIALS'] = r'sixth-topic-347322-4297c4a3d919.json'"
   ]
  },
  {
   "cell_type": "code",
   "execution_count": 3,
   "id": "d72481bb",
   "metadata": {},
   "outputs": [],
   "source": [
    "## Addendum with language identified\n",
    "addendum_untranslated = pd.read_csv(\"addendum_wdetails_cleaned.csv\")\n",
    "                             "
   ]
  },
  {
   "cell_type": "markdown",
   "id": "8f96e54e",
   "metadata": {},
   "source": [
    "## Make Sure that Google Cloud API Work"
   ]
  },
  {
   "cell_type": "code",
   "execution_count": 4,
   "id": "9c7f7344",
   "metadata": {},
   "outputs": [
    {
     "name": "stdout",
     "output_type": "stream",
     "text": [
      "{'translatedText': 'Hello how are you', 'detectedSourceLanguage': 'es', 'input': 'hola como estas'}\n"
     ]
    }
   ],
   "source": [
    "\n",
    "translate_client = translate_v2.Client()\n",
    "\n",
    "text = \"hola como estas\"\n",
    "target = \"en\"\n",
    "\n",
    "output = translate_client.translate(text, target_language=target)\n",
    "\n",
    "print(output)"
   ]
  },
  {
   "cell_type": "markdown",
   "id": "e55d46bb",
   "metadata": {},
   "source": [
    "## Function to Run Translation on Dataset"
   ]
  },
  {
   "cell_type": "code",
   "execution_count": 5,
   "id": "795d4f1b",
   "metadata": {},
   "outputs": [],
   "source": [
    "def google_translate_messages(one_row):\n",
    "    '''\n",
    "    Pass in a df row.\n",
    "    Find the message under the 'SECTION_DETAILS column'\n",
    "    '''\n",
    "    one_message = one_row.loc['SECTION_DETAILS']\n",
    "    \n",
    "    # initialize the Google Cloud translation client\n",
    "    translate_client = translate_v2.Client()\n",
    "    \n",
    "    # set the target language\n",
    "    target = 'en'\n",
    "    \n",
    "    \n",
    "    try:\n",
    "    # apply the translation \n",
    "        output = translate_client.translate(one_message, \n",
    "                                            format_='html',\n",
    "                                            target_language=target)\n",
    "    except:\n",
    "        output = {'translatedText': 'translation_error', \n",
    "                  'detectedSourceLanguage': 'translation_error', \n",
    "                  'orig_content':'translation_error'}\n",
    "\n",
    "    return list(output.values())"
   ]
  },
  {
   "cell_type": "markdown",
   "id": "4ec9809e",
   "metadata": {},
   "source": [
    "## Data Manipulation and Cleaning Before Translating"
   ]
  },
  {
   "cell_type": "code",
   "execution_count": 6,
   "id": "4180d3f0",
   "metadata": {},
   "outputs": [
    {
     "data": {
      "text/plain": [
       "99538"
      ]
     },
     "execution_count": 6,
     "metadata": {},
     "output_type": "execute_result"
    },
    {
     "data": {
      "text/html": [
       "<div>\n",
       "<style scoped>\n",
       "    .dataframe tbody tr th:only-of-type {\n",
       "        vertical-align: middle;\n",
       "    }\n",
       "\n",
       "    .dataframe tbody tr th {\n",
       "        vertical-align: top;\n",
       "    }\n",
       "\n",
       "    .dataframe thead th {\n",
       "        text-align: right;\n",
       "    }\n",
       "</style>\n",
       "<table border=\"1\" class=\"dataframe\">\n",
       "  <thead>\n",
       "    <tr style=\"text-align: right;\">\n",
       "      <th></th>\n",
       "      <th>SECTION_DETAILS</th>\n",
       "    </tr>\n",
       "  </thead>\n",
       "  <tbody>\n",
       "    <tr>\n",
       "      <th>0</th>\n",
       "      <td>Employer will furnish free and convenient cook...</td>\n",
       "    </tr>\n",
       "    <tr>\n",
       "      <th>1</th>\n",
       "      <td>Three (3) months experience with references re...</td>\n",
       "    </tr>\n",
       "    <tr>\n",
       "      <th>2</th>\n",
       "      <td>Living &amp; laundry facilities available. Housing...</td>\n",
       "    </tr>\n",
       "    <tr>\n",
       "      <th>3</th>\n",
       "      <td>Should the Employers worker’s compensation ins...</td>\n",
       "    </tr>\n",
       "    <tr>\n",
       "      <th>4</th>\n",
       "      <td>The employer shall provide transportation in t...</td>\n",
       "    </tr>\n",
       "    <tr>\n",
       "      <th>...</th>\n",
       "      <td>...</td>\n",
       "    </tr>\n",
       "    <tr>\n",
       "      <th>99528</th>\n",
       "      <td>California Tax ID Number:  062-1432-4</td>\n",
       "    </tr>\n",
       "    <tr>\n",
       "      <th>99532</th>\n",
       "      <td>Persons seeking employment as experienced Agri...</td>\n",
       "    </tr>\n",
       "    <tr>\n",
       "      <th>99534</th>\n",
       "      <td>Other Job Specifications Include:\\n1.\\tThe wor...</td>\n",
       "    </tr>\n",
       "    <tr>\n",
       "      <th>99535</th>\n",
       "      <td>may experience occasional exposure to hazards ...</td>\n",
       "    </tr>\n",
       "    <tr>\n",
       "      <th>99537</th>\n",
       "      <td>Debe tener 3 meses de experiencia con 800 - 10...</td>\n",
       "    </tr>\n",
       "  </tbody>\n",
       "</table>\n",
       "<p>25591 rows × 1 columns</p>\n",
       "</div>"
      ],
      "text/plain": [
       "                                         SECTION_DETAILS\n",
       "0      Employer will furnish free and convenient cook...\n",
       "1      Three (3) months experience with references re...\n",
       "2      Living & laundry facilities available. Housing...\n",
       "3      Should the Employers worker’s compensation ins...\n",
       "4      The employer shall provide transportation in t...\n",
       "...                                                  ...\n",
       "99528              California Tax ID Number:  062-1432-4\n",
       "99532  Persons seeking employment as experienced Agri...\n",
       "99534  Other Job Specifications Include:\\n1.\\tThe wor...\n",
       "99535  may experience occasional exposure to hazards ...\n",
       "99537  Debe tener 3 meses de experiencia con 800 - 10...\n",
       "\n",
       "[25591 rows x 1 columns]"
      ]
     },
     "execution_count": 6,
     "metadata": {},
     "output_type": "execute_result"
    },
    {
     "data": {
      "text/plain": [
       "99538"
      ]
     },
     "execution_count": 6,
     "metadata": {},
     "output_type": "execute_result"
    }
   ],
   "source": [
    "# Check if there is duplicated rows because google translation takes a lot of time\n",
    "# it is good to prevent running translation twice\n",
    "len(addendum_untranslated)\n",
    "addendum_untranslated[['SECTION_DETAILS']].drop_duplicates()\n",
    "len(addendum_untranslated)\n"
   ]
  },
  {
   "cell_type": "code",
   "execution_count": 32,
   "id": "2ab07893",
   "metadata": {},
   "outputs": [],
   "source": [
    "# Filter out non English Rows\n",
    "nonEnglish = addendum_untranslated.loc[(addendum_untranslated['lang1']!=\"en\") | (addendum_untranslated['lang2'].notnull()) | (addendum_untranslated['lang3'].notnull())]\n",
    "English = addendum_untranslated.loc[(addendum_untranslated['lang1']==\"en\") & (addendum_untranslated['lang2'].isnull()) & (addendum_untranslated['lang2'].isnull())]\n",
    "\n",
    "assert len(addendum_untranslated)==len(nonEnglish)+len(English)"
   ]
  },
  {
   "cell_type": "code",
   "execution_count": 26,
   "id": "e7d5f711",
   "metadata": {},
   "outputs": [
    {
     "name": "stdout",
     "output_type": "stream",
     "text": [
      "df 1 : (1670, 15)\n",
      "df 2 : (1670, 15)\n",
      "df 3 : (1670, 15)\n",
      "df 4 : (1670, 15)\n",
      "df 5 : (1670, 15)\n",
      "df 6 : (1670, 15)\n",
      "df 7 : (1669, 15)\n",
      "df 8 : (1669, 15)\n",
      "df 9 : (1669, 15)\n",
      "df 10 : (1669, 15)\n"
     ]
    }
   ],
   "source": [
    "# Split df into 20 dataframes, so that we can revisit if code breaks + internet crashes \n",
    "split_df = np.array_split(nonEnglish, 10)\n",
    "\n",
    "# N rows/columns per df. \n",
    "for i in range(len(split_df)):\n",
    "    print('df', i+1, ':', \n",
    "        split_df[i].shape)"
   ]
  },
  {
   "cell_type": "markdown",
   "id": "a5abb4ab",
   "metadata": {},
   "source": [
    "## Translate Job Postings"
   ]
  },
  {
   "cell_type": "code",
   "execution_count": 9,
   "id": "0676b281",
   "metadata": {},
   "outputs": [
    {
     "name": "stdout",
     "output_type": "stream",
     "text": [
      "took 889.24137314 seconds to run\n",
      "wrote results for df  1\n",
      "took 928.3444729280002 seconds to run\n",
      "wrote results for df  2\n",
      "took 851.3610782659998 seconds to run\n",
      "wrote results for df  3\n",
      "took 838.3814368590001 seconds to run\n",
      "wrote results for df  4\n",
      "took 848.9665148869999 seconds to run\n",
      "wrote results for df  5\n",
      "took 851.0585088010002 seconds to run\n",
      "wrote results for df  6\n",
      "took 857.8521529560003 seconds to run\n",
      "wrote results for df  7\n",
      "took 912.0228779660001 seconds to run\n",
      "wrote results for df  8\n",
      "took 891.6887572940004 seconds to run\n",
      "wrote results for df  9\n",
      "took 886.3544101749994 seconds to run\n",
      "wrote results for df  10\n"
     ]
    }
   ],
   "source": [
    "# Set up to run translation\n",
    "\n",
    "# output path\n",
    "filename = 'translated_msgs_'\n",
    "ext = '.csv'\n",
    "\n",
    "\n",
    "# For every dataframe in split_df, \n",
    "# run through the translation, unpack the results, \n",
    "# and save as csv\n",
    "\n",
    "for i in range(len(split_df)):\n",
    "    one_df = split_df[i]\n",
    "    \n",
    "    start_translation_time = timeit.default_timer() #time start\n",
    "    \n",
    "    # run translation\n",
    "    one_df['output_list'] = one_df.apply(google_translate_messages, axis = 1)\n",
    "\n",
    "    stop_translation_time = timeit.default_timer() #time end\n",
    "    \n",
    "    time_lapse = stop_translation_time - start_translation_time\n",
    "    print(\"took \" + str(time_lapse) + \" seconds to run\")\n",
    "    \n",
    "    # unpack the translation results into their own columns\n",
    "    one_df[['translatedText', 'detectedSourceLanguage', 'orig_content']] = \\\n",
    "        pd.DataFrame(one_df.output_list.to_list(),  \n",
    "                     index = one_df.index)\n",
    "\n",
    "    one_df.to_csv(filename + str(i) + ext)\n",
    "    \n",
    "    print(\"wrote results for df \", i + 1)"
   ]
  },
  {
   "cell_type": "code",
   "execution_count": 11,
   "id": "c7011901",
   "metadata": {},
   "outputs": [
    {
     "name": "stdout",
     "output_type": "stream",
     "text": [
      "(1670, 20)\n",
      "(1670, 20)\n",
      "(1670, 20)\n",
      "(1670, 20)\n",
      "(1670, 20)\n",
      "(1670, 20)\n",
      "(1669, 20)\n",
      "(1669, 20)\n",
      "(1669, 20)\n",
      "(1669, 20)\n"
     ]
    }
   ],
   "source": [
    "## Read all the translated files\n",
    "\n",
    "# output path\n",
    "filename = 'translated_msgs_'\n",
    "ext = '.csv'\n",
    "\n",
    "# init first df\n",
    "translated_msgs_init = pd.read_csv(filename + '0' + ext)\n",
    "print(translated_msgs_init.shape)\n",
    "# initialize list to store our pickles\n",
    "csv = []\n",
    "\n",
    "# For every file in the folder, read it in as a dataframe, \n",
    "# then append to the pickles list\n",
    "for i in range(1, len(split_df)):\n",
    "    df = pd.read_csv( filename + str(i) + ext)\n",
    "    print(df.shape)\n",
    "    csv.append(df)"
   ]
  },
  {
   "cell_type": "code",
   "execution_count": 20,
   "id": "a14c5be2",
   "metadata": {},
   "outputs": [
    {
     "data": {
      "text/plain": [
       "es                   16432\n",
       "en                     257\n",
       "id                       3\n",
       "it                       1\n",
       "gu                       1\n",
       "de                       1\n",
       "translation_error        1\n",
       "Name: detectedSourceLanguage, dtype: int64"
      ]
     },
     "execution_count": 20,
     "metadata": {},
     "output_type": "execute_result"
    },
    {
     "data": {
      "text/plain": [
       "16696"
      ]
     },
     "execution_count": 20,
     "metadata": {},
     "output_type": "execute_result"
    },
    {
     "data": {
      "text/plain": [
       "16696"
      ]
     },
     "execution_count": 20,
     "metadata": {},
     "output_type": "execute_result"
    }
   ],
   "source": [
    "## Combine the 10 datasets together\n",
    "translated_data = pd.concat([translated_msgs_init, *csv])\n",
    "# Look at the languages detected\n",
    "translated_msgs.detectedSourceLanguage.value_counts()\n",
    "# Check if the combined translated datasets match the number of rows of the original nonEnglish datasets\n",
    "assert len(translated_data)==len(nonEnglish)"
   ]
  },
  {
   "cell_type": "markdown",
   "id": "f1375a41",
   "metadata": {},
   "source": [
    "## Merge back with English Job Postings"
   ]
  },
  {
   "cell_type": "code",
   "execution_count": 55,
   "id": "6be21986",
   "metadata": {},
   "outputs": [],
   "source": [
    "## Merge back the Job Posting with purely english\n",
    "## ?? Does it matter if the order is messed up?? \n",
    "translated_postings = English.append(translated_data, ignore_index=True)\n",
    "assert len(translated_postings)==len(addendum_untranslated)"
   ]
  },
  {
   "cell_type": "code",
   "execution_count": 56,
   "id": "2ee3e3df",
   "metadata": {},
   "outputs": [
    {
     "data": {
      "text/html": [
       "<div>\n",
       "<style scoped>\n",
       "    .dataframe tbody tr th:only-of-type {\n",
       "        vertical-align: middle;\n",
       "    }\n",
       "\n",
       "    .dataframe tbody tr th {\n",
       "        vertical-align: top;\n",
       "    }\n",
       "\n",
       "    .dataframe thead th {\n",
       "        text-align: right;\n",
       "    }\n",
       "</style>\n",
       "<table border=\"1\" class=\"dataframe\">\n",
       "  <thead>\n",
       "    <tr style=\"text-align: right;\">\n",
       "      <th></th>\n",
       "      <th>Unnamed: 0</th>\n",
       "      <th>level_0</th>\n",
       "      <th>level_1</th>\n",
       "      <th>CASE_NUMBER</th>\n",
       "      <th>SECTION_NAME</th>\n",
       "      <th>SECTION_NUMBER</th>\n",
       "      <th>SECTION_DETAILS</th>\n",
       "      <th>lang1</th>\n",
       "      <th>lang1_prob</th>\n",
       "      <th>lang2</th>\n",
       "      <th>lang2_prob</th>\n",
       "      <th>lang3</th>\n",
       "      <th>lang3_prob</th>\n",
       "      <th>translatedText</th>\n",
       "      <th>detectedSourceLanguage</th>\n",
       "      <th>orig_content</th>\n",
       "    </tr>\n",
       "  </thead>\n",
       "  <tbody>\n",
       "    <tr>\n",
       "      <th>0</th>\n",
       "      <td>0</td>\n",
       "      <td>FOIA_2021-F-05932_FY2020</td>\n",
       "      <td>0</td>\n",
       "      <td>H-300-19274-066174</td>\n",
       "      <td>Meal Provision</td>\n",
       "      <td>E.1</td>\n",
       "      <td>Employer will furnish free and convenient cook...</td>\n",
       "      <td>en</td>\n",
       "      <td>0.999999</td>\n",
       "      <td>NaN</td>\n",
       "      <td>NaN</td>\n",
       "      <td>NaN</td>\n",
       "      <td>NaN</td>\n",
       "      <td>Employer will furnish free and convenient cook...</td>\n",
       "      <td>NaN</td>\n",
       "      <td>Employer will furnish free and convenient cook...</td>\n",
       "    </tr>\n",
       "    <tr>\n",
       "      <th>1</th>\n",
       "      <td>1</td>\n",
       "      <td>FOIA_2021-F-05932_FY2020</td>\n",
       "      <td>1</td>\n",
       "      <td>H-300-19274-066174</td>\n",
       "      <td>Job Requirements</td>\n",
       "      <td>B.6</td>\n",
       "      <td>Three (3) months experience with references re...</td>\n",
       "      <td>en</td>\n",
       "      <td>0.999996</td>\n",
       "      <td>NaN</td>\n",
       "      <td>NaN</td>\n",
       "      <td>NaN</td>\n",
       "      <td>NaN</td>\n",
       "      <td>Three (3) months experience with references re...</td>\n",
       "      <td>NaN</td>\n",
       "      <td>Three (3) months experience with references re...</td>\n",
       "    </tr>\n",
       "    <tr>\n",
       "      <th>2</th>\n",
       "      <td>2</td>\n",
       "      <td>FOIA_2021-F-05932_FY2020</td>\n",
       "      <td>2</td>\n",
       "      <td>H-300-19274-066174</td>\n",
       "      <td>Daily Transportation</td>\n",
       "      <td>F.1</td>\n",
       "      <td>Living &amp; laundry facilities available. Housing...</td>\n",
       "      <td>en</td>\n",
       "      <td>0.999996</td>\n",
       "      <td>NaN</td>\n",
       "      <td>NaN</td>\n",
       "      <td>NaN</td>\n",
       "      <td>NaN</td>\n",
       "      <td>Living &amp; laundry facilities available. Housing...</td>\n",
       "      <td>NaN</td>\n",
       "      <td>Living &amp; laundry facilities available. Housing...</td>\n",
       "    </tr>\n",
       "    <tr>\n",
       "      <th>3</th>\n",
       "      <td>3</td>\n",
       "      <td>FOIA_2021-F-05932_FY2020</td>\n",
       "      <td>3</td>\n",
       "      <td>H-300-19274-066174</td>\n",
       "      <td>Job Requirements</td>\n",
       "      <td>B.6</td>\n",
       "      <td>Should the Employers worker’s compensation ins...</td>\n",
       "      <td>en</td>\n",
       "      <td>0.999994</td>\n",
       "      <td>NaN</td>\n",
       "      <td>NaN</td>\n",
       "      <td>NaN</td>\n",
       "      <td>NaN</td>\n",
       "      <td>Should the Employers worker’s compensation ins...</td>\n",
       "      <td>NaN</td>\n",
       "      <td>Should the Employers worker’s compensation ins...</td>\n",
       "    </tr>\n",
       "    <tr>\n",
       "      <th>4</th>\n",
       "      <td>4</td>\n",
       "      <td>FOIA_2021-F-05932_FY2020</td>\n",
       "      <td>4</td>\n",
       "      <td>H-300-19274-066174</td>\n",
       "      <td>Daily Transportation</td>\n",
       "      <td>F.1</td>\n",
       "      <td>The employer shall provide transportation in t...</td>\n",
       "      <td>en</td>\n",
       "      <td>0.999998</td>\n",
       "      <td>NaN</td>\n",
       "      <td>NaN</td>\n",
       "      <td>NaN</td>\n",
       "      <td>NaN</td>\n",
       "      <td>The employer shall provide transportation in t...</td>\n",
       "      <td>NaN</td>\n",
       "      <td>The employer shall provide transportation in t...</td>\n",
       "    </tr>\n",
       "  </tbody>\n",
       "</table>\n",
       "</div>"
      ],
      "text/plain": [
       "   Unnamed: 0                   level_0  level_1         CASE_NUMBER  \\\n",
       "0           0  FOIA_2021-F-05932_FY2020        0  H-300-19274-066174   \n",
       "1           1  FOIA_2021-F-05932_FY2020        1  H-300-19274-066174   \n",
       "2           2  FOIA_2021-F-05932_FY2020        2  H-300-19274-066174   \n",
       "3           3  FOIA_2021-F-05932_FY2020        3  H-300-19274-066174   \n",
       "4           4  FOIA_2021-F-05932_FY2020        4  H-300-19274-066174   \n",
       "\n",
       "           SECTION_NAME SECTION_NUMBER  \\\n",
       "0        Meal Provision            E.1   \n",
       "1      Job Requirements            B.6   \n",
       "2  Daily Transportation            F.1   \n",
       "3      Job Requirements            B.6   \n",
       "4  Daily Transportation            F.1   \n",
       "\n",
       "                                     SECTION_DETAILS lang1  lang1_prob lang2  \\\n",
       "0  Employer will furnish free and convenient cook...    en    0.999999   NaN   \n",
       "1  Three (3) months experience with references re...    en    0.999996   NaN   \n",
       "2  Living & laundry facilities available. Housing...    en    0.999996   NaN   \n",
       "3  Should the Employers worker’s compensation ins...    en    0.999994   NaN   \n",
       "4  The employer shall provide transportation in t...    en    0.999998   NaN   \n",
       "\n",
       "   lang2_prob lang3  lang3_prob  \\\n",
       "0         NaN   NaN         NaN   \n",
       "1         NaN   NaN         NaN   \n",
       "2         NaN   NaN         NaN   \n",
       "3         NaN   NaN         NaN   \n",
       "4         NaN   NaN         NaN   \n",
       "\n",
       "                                      translatedText detectedSourceLanguage  \\\n",
       "0  Employer will furnish free and convenient cook...                    NaN   \n",
       "1  Three (3) months experience with references re...                    NaN   \n",
       "2  Living & laundry facilities available. Housing...                    NaN   \n",
       "3  Should the Employers worker’s compensation ins...                    NaN   \n",
       "4  The employer shall provide transportation in t...                    NaN   \n",
       "\n",
       "                                        orig_content  \n",
       "0  Employer will furnish free and convenient cook...  \n",
       "1  Three (3) months experience with references re...  \n",
       "2  Living & laundry facilities available. Housing...  \n",
       "3  Should the Employers worker’s compensation ins...  \n",
       "4  The employer shall provide transportation in t...  "
      ]
     },
     "execution_count": 56,
     "metadata": {},
     "output_type": "execute_result"
    }
   ],
   "source": [
    "## Clean the columns \n",
    "## 1) replace translatedText and orig_content of the original english addendum with Section_Details\n",
    "translated_postings.orig_content.fillna(translated_postings.SECTION_DETAILS, inplace=True)\n",
    "translated_postings.translatedText.fillna(translated_postings.SECTION_DETAILS, inplace=True)\n",
    "## 2) get rid of irrelvant columns\n",
    "translated_postings_cleaned = translated_postings.loc[:, ~translated_postings.columns.isin(['Unnamed: 0.1', 'output_list',\"all\",\"is_missing_all\"])]\n",
    "translated_postings_cleaned.head()\n"
   ]
  },
  {
   "cell_type": "markdown",
   "id": "bcce003c",
   "metadata": {},
   "source": [
    "## Preprocessing"
   ]
  },
  {
   "cell_type": "markdown",
   "id": "01bcf8f9",
   "metadata": {},
   "source": [
    "## Job Postings + Violation Data"
   ]
  },
  {
   "cell_type": "code",
   "execution_count": 45,
   "id": "47583c45",
   "metadata": {},
   "outputs": [
    {
     "name": "stderr",
     "output_type": "stream",
     "text": [
      "/opt/anaconda3/lib/python3.9/site-packages/IPython/core/interactiveshell.py:3444: DtypeWarning: Columns (9,17,156) have mixed types.Specify dtype option on import or set low_memory=False.\n",
      "  exec(code_obj, self.user_global_ns, self.user_ns)\n"
     ]
    }
   ],
   "source": [
    "violations = pd.read_csv(\"whd_violations.csv\")"
   ]
  },
  {
   "cell_type": "code",
   "execution_count": 50,
   "id": "499e5100",
   "metadata": {},
   "outputs": [
    {
     "data": {
      "text/plain": [
       "95169"
      ]
     },
     "execution_count": 50,
     "metadata": {},
     "output_type": "execute_result"
    },
    {
     "data": {
      "text/plain": [
       "68852"
      ]
     },
     "execution_count": 50,
     "metadata": {},
     "output_type": "execute_result"
    },
    {
     "data": {
      "text/plain": [
       "99538"
      ]
     },
     "execution_count": 50,
     "metadata": {},
     "output_type": "execute_result"
    },
    {
     "data": {
      "text/plain": [
       "13530"
      ]
     },
     "execution_count": 50,
     "metadata": {},
     "output_type": "execute_result"
    }
   ],
   "source": [
    "violations[\"CASE_NUMBER\"].size\n",
    "violations[\"CASE_NUMBER\"].nunique()\n",
    "translated_postings[\"CASE_NUMBER\"].size\n",
    "translated_postings[\"CASE_NUMBER\"].nunique()"
   ]
  }
 ],
 "metadata": {
  "kernelspec": {
   "display_name": "Python 3 (ipykernel)",
   "language": "python",
   "name": "python3"
  },
  "language_info": {
   "codemirror_mode": {
    "name": "ipython",
    "version": 3
   },
   "file_extension": ".py",
   "mimetype": "text/x-python",
   "name": "python",
   "nbconvert_exporter": "python",
   "pygments_lexer": "ipython3",
   "version": "3.9.7"
  }
 },
 "nbformat": 4,
 "nbformat_minor": 5
}

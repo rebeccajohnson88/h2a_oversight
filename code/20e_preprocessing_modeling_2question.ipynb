{
 "cells": [
  {
   "cell_type": "code",
   "execution_count": 2,
   "id": "9c3e0b8b",
   "metadata": {},
   "outputs": [
    {
     "name": "stderr",
     "output_type": "stream",
     "text": [
      "[nltk_data] Downloading package punkt to /Users/euniceliu/nltk_data...\n",
      "[nltk_data]   Package punkt is already up-to-date!\n",
      "[nltk_data] Downloading package stopwords to\n",
      "[nltk_data]     /Users/euniceliu/nltk_data...\n",
      "[nltk_data]   Package stopwords is already up-to-date!\n"
     ]
    }
   ],
   "source": [
    "import os\n",
    "import pandas as pd\n",
    "import numpy as np\n",
    "import datetime\n",
    "import yaml\n",
    "import re\n",
    "\n",
    "from IPython.core.interactiveshell import InteractiveShell\n",
    "InteractiveShell.ast_node_interactivity = \"all\"\n",
    "\n",
    "import datetime\n",
    "from datetime import datetime\n",
    "from datetime import date\n",
    "\n",
    "import nltk\n",
    "from nltk import word_tokenize\n",
    "nltk.download('punkt')\n",
    "nltk.download('stopwords')\n",
    "\n",
    "\n",
    "# Google Cloud Language Translation API\n",
    "# We're using the basic version here == \"v2\" \n",
    "from google.cloud import translate_v2\n",
    "\n",
    "import timeit\n",
    "import time\n",
    "\n",
    "## nltk imports\n",
    "# ! pip install gensim\n",
    "from nltk.tokenize import word_tokenize, wordpunct_tokenize\n",
    "from nltk.corpus import stopwords\n",
    "from nltk.stem.porter import PorterStemmer\n",
    "from gensim import corpora, models\n",
    "from sklearn.feature_extraction.text import TfidfVectorizer\n",
    "from sklearn.model_selection import train_test_split\n",
    "from sklearn.naive_bayes import MultinomialNB\n",
    "import sklearn.metrics as metrics"
   ]
  },
  {
   "cell_type": "markdown",
   "id": "f26358b1",
   "metadata": {},
   "source": [
    "# Major tasks accomplished in this notebook\n",
    "- 1) Classify the outcome variables (CASE_STATUS) into binary 0,1\n",
    "- 2) Pre-process the job addendums\n",
    "- 3) Create a Movie Reviews Classifier Using TF-IDF \n",
    "- 4) Create and run a Multinomial Naive Bayes model to see the prediction of translation status by the text features"
   ]
  },
  {
   "cell_type": "markdown",
   "id": "a89ff6c8",
   "metadata": {},
   "source": [
    "## Read in data"
   ]
  },
  {
   "cell_type": "code",
   "execution_count": 4,
   "id": "62a856a4",
   "metadata": {},
   "outputs": [
    {
     "data": {
      "text/html": [
       "<div>\n",
       "<style scoped>\n",
       "    .dataframe tbody tr th:only-of-type {\n",
       "        vertical-align: middle;\n",
       "    }\n",
       "\n",
       "    .dataframe tbody tr th {\n",
       "        vertical-align: top;\n",
       "    }\n",
       "\n",
       "    .dataframe thead th {\n",
       "        text-align: right;\n",
       "    }\n",
       "</style>\n",
       "<table border=\"1\" class=\"dataframe\">\n",
       "  <thead>\n",
       "    <tr style=\"text-align: right;\">\n",
       "      <th></th>\n",
       "      <th>Unnamed: 0</th>\n",
       "      <th>Unnamed: 0.1</th>\n",
       "      <th>level_0</th>\n",
       "      <th>level_1</th>\n",
       "      <th>CASE_NUMBER</th>\n",
       "      <th>SECTION_NAME</th>\n",
       "      <th>SECTION_NUMBER</th>\n",
       "      <th>SECTION_DETAILS</th>\n",
       "      <th>lang1</th>\n",
       "      <th>lang1_prob</th>\n",
       "      <th>lang2</th>\n",
       "      <th>lang2_prob</th>\n",
       "      <th>lang3</th>\n",
       "      <th>lang3_prob</th>\n",
       "      <th>translatedText</th>\n",
       "      <th>orig_content</th>\n",
       "      <th>translated</th>\n",
       "    </tr>\n",
       "  </thead>\n",
       "  <tbody>\n",
       "    <tr>\n",
       "      <th>0</th>\n",
       "      <td>0</td>\n",
       "      <td>0</td>\n",
       "      <td>FOIA_2021-F-05932_FY2020</td>\n",
       "      <td>0</td>\n",
       "      <td>H-300-19274-066174</td>\n",
       "      <td>Meal Provision</td>\n",
       "      <td>E.1</td>\n",
       "      <td>Employer will furnish free and convenient cook...</td>\n",
       "      <td>en</td>\n",
       "      <td>0.999999</td>\n",
       "      <td>NaN</td>\n",
       "      <td>NaN</td>\n",
       "      <td>NaN</td>\n",
       "      <td>NaN</td>\n",
       "      <td>Employer will furnish free and convenient cook...</td>\n",
       "      <td>Employer will furnish free and convenient cook...</td>\n",
       "      <td>NO</td>\n",
       "    </tr>\n",
       "    <tr>\n",
       "      <th>1</th>\n",
       "      <td>1</td>\n",
       "      <td>1</td>\n",
       "      <td>FOIA_2021-F-05932_FY2020</td>\n",
       "      <td>1</td>\n",
       "      <td>H-300-19274-066174</td>\n",
       "      <td>Job Requirements</td>\n",
       "      <td>B.6</td>\n",
       "      <td>Three (3) months experience with references re...</td>\n",
       "      <td>en</td>\n",
       "      <td>0.999996</td>\n",
       "      <td>NaN</td>\n",
       "      <td>NaN</td>\n",
       "      <td>NaN</td>\n",
       "      <td>NaN</td>\n",
       "      <td>Three (3) months experience with references re...</td>\n",
       "      <td>Three (3) months experience with references re...</td>\n",
       "      <td>NO</td>\n",
       "    </tr>\n",
       "    <tr>\n",
       "      <th>2</th>\n",
       "      <td>2</td>\n",
       "      <td>2</td>\n",
       "      <td>FOIA_2021-F-05932_FY2020</td>\n",
       "      <td>2</td>\n",
       "      <td>H-300-19274-066174</td>\n",
       "      <td>Daily Transportation</td>\n",
       "      <td>F.1</td>\n",
       "      <td>Living &amp; laundry facilities available. Housing...</td>\n",
       "      <td>en</td>\n",
       "      <td>0.999996</td>\n",
       "      <td>NaN</td>\n",
       "      <td>NaN</td>\n",
       "      <td>NaN</td>\n",
       "      <td>NaN</td>\n",
       "      <td>Living &amp; laundry facilities available. Housing...</td>\n",
       "      <td>Living &amp; laundry facilities available. Housing...</td>\n",
       "      <td>NO</td>\n",
       "    </tr>\n",
       "    <tr>\n",
       "      <th>3</th>\n",
       "      <td>3</td>\n",
       "      <td>3</td>\n",
       "      <td>FOIA_2021-F-05932_FY2020</td>\n",
       "      <td>3</td>\n",
       "      <td>H-300-19274-066174</td>\n",
       "      <td>Job Requirements</td>\n",
       "      <td>B.6</td>\n",
       "      <td>Should the Employers worker’s compensation ins...</td>\n",
       "      <td>en</td>\n",
       "      <td>0.999994</td>\n",
       "      <td>NaN</td>\n",
       "      <td>NaN</td>\n",
       "      <td>NaN</td>\n",
       "      <td>NaN</td>\n",
       "      <td>Should the Employers worker’s compensation ins...</td>\n",
       "      <td>Should the Employers worker’s compensation ins...</td>\n",
       "      <td>NO</td>\n",
       "    </tr>\n",
       "    <tr>\n",
       "      <th>4</th>\n",
       "      <td>4</td>\n",
       "      <td>4</td>\n",
       "      <td>FOIA_2021-F-05932_FY2020</td>\n",
       "      <td>4</td>\n",
       "      <td>H-300-19274-066174</td>\n",
       "      <td>Daily Transportation</td>\n",
       "      <td>F.1</td>\n",
       "      <td>The employer shall provide transportation in t...</td>\n",
       "      <td>en</td>\n",
       "      <td>0.999998</td>\n",
       "      <td>NaN</td>\n",
       "      <td>NaN</td>\n",
       "      <td>NaN</td>\n",
       "      <td>NaN</td>\n",
       "      <td>The employer shall provide transportation in t...</td>\n",
       "      <td>The employer shall provide transportation in t...</td>\n",
       "      <td>NO</td>\n",
       "    </tr>\n",
       "  </tbody>\n",
       "</table>\n",
       "</div>"
      ],
      "text/plain": [
       "   Unnamed: 0  Unnamed: 0.1                   level_0  level_1  \\\n",
       "0           0             0  FOIA_2021-F-05932_FY2020        0   \n",
       "1           1             1  FOIA_2021-F-05932_FY2020        1   \n",
       "2           2             2  FOIA_2021-F-05932_FY2020        2   \n",
       "3           3             3  FOIA_2021-F-05932_FY2020        3   \n",
       "4           4             4  FOIA_2021-F-05932_FY2020        4   \n",
       "\n",
       "          CASE_NUMBER          SECTION_NAME SECTION_NUMBER  \\\n",
       "0  H-300-19274-066174        Meal Provision            E.1   \n",
       "1  H-300-19274-066174      Job Requirements            B.6   \n",
       "2  H-300-19274-066174  Daily Transportation            F.1   \n",
       "3  H-300-19274-066174      Job Requirements            B.6   \n",
       "4  H-300-19274-066174  Daily Transportation            F.1   \n",
       "\n",
       "                                     SECTION_DETAILS lang1  lang1_prob lang2  \\\n",
       "0  Employer will furnish free and convenient cook...    en    0.999999   NaN   \n",
       "1  Three (3) months experience with references re...    en    0.999996   NaN   \n",
       "2  Living & laundry facilities available. Housing...    en    0.999996   NaN   \n",
       "3  Should the Employers worker’s compensation ins...    en    0.999994   NaN   \n",
       "4  The employer shall provide transportation in t...    en    0.999998   NaN   \n",
       "\n",
       "   lang2_prob lang3  lang3_prob  \\\n",
       "0         NaN   NaN         NaN   \n",
       "1         NaN   NaN         NaN   \n",
       "2         NaN   NaN         NaN   \n",
       "3         NaN   NaN         NaN   \n",
       "4         NaN   NaN         NaN   \n",
       "\n",
       "                                      translatedText  \\\n",
       "0  Employer will furnish free and convenient cook...   \n",
       "1  Three (3) months experience with references re...   \n",
       "2  Living & laundry facilities available. Housing...   \n",
       "3  Should the Employers worker’s compensation ins...   \n",
       "4  The employer shall provide transportation in t...   \n",
       "\n",
       "                                        orig_content translated  \n",
       "0  Employer will furnish free and convenient cook...         NO  \n",
       "1  Three (3) months experience with references re...         NO  \n",
       "2  Living & laundry facilities available. Housing...         NO  \n",
       "3  Should the Employers worker’s compensation ins...         NO  \n",
       "4  The employer shall provide transportation in t...         NO  "
      ]
     },
     "execution_count": 4,
     "metadata": {},
     "output_type": "execute_result"
    }
   ],
   "source": [
    "translated_job_postings=pd.read_csv(\"translated_job_postings.csv\")\n",
    "translated_job_postings.head()"
   ]
  },
  {
   "cell_type": "markdown",
   "id": "0e54b541",
   "metadata": {},
   "source": [
    "## Create classifer to show whether an addendum is translated or not"
   ]
  },
  {
   "cell_type": "markdown",
   "id": "ba5576e4",
   "metadata": {},
   "source": [
    "### Concatenate addendums of the same case number"
   ]
  },
  {
   "cell_type": "code",
   "execution_count": 4,
   "id": "58ea8d47",
   "metadata": {},
   "outputs": [
    {
     "data": {
      "text/html": [
       "<div>\n",
       "<style scoped>\n",
       "    .dataframe tbody tr th:only-of-type {\n",
       "        vertical-align: middle;\n",
       "    }\n",
       "\n",
       "    .dataframe tbody tr th {\n",
       "        vertical-align: top;\n",
       "    }\n",
       "\n",
       "    .dataframe thead th {\n",
       "        text-align: right;\n",
       "    }\n",
       "</style>\n",
       "<table border=\"1\" class=\"dataframe\">\n",
       "  <thead>\n",
       "    <tr style=\"text-align: right;\">\n",
       "      <th></th>\n",
       "      <th>CASE_NUMBER</th>\n",
       "      <th>combined_job_postings</th>\n",
       "    </tr>\n",
       "  </thead>\n",
       "  <tbody>\n",
       "    <tr>\n",
       "      <th>0</th>\n",
       "      <td>H-300-19274-066154</td>\n",
       "      <td>Operating large farm tractors and equipment as...</td>\n",
       "    </tr>\n",
       "    <tr>\n",
       "      <th>1</th>\n",
       "      <td>H-300-19274-066174</td>\n",
       "      <td>Employer will furnish free and convenient cook...</td>\n",
       "    </tr>\n",
       "    <tr>\n",
       "      <th>2</th>\n",
       "      <td>H-300-19274-066180</td>\n",
       "      <td>INBOUND 1) Advance the worker the required tra...</td>\n",
       "    </tr>\n",
       "    <tr>\n",
       "      <th>3</th>\n",
       "      <td>H-300-19274-066199</td>\n",
       "      <td>For workers who are provided housing, transpor...</td>\n",
       "    </tr>\n",
       "    <tr>\n",
       "      <th>4</th>\n",
       "      <td>H-300-19274-066237</td>\n",
       "      <td>The inbound transportation will be reimbursed ...</td>\n",
       "    </tr>\n",
       "  </tbody>\n",
       "</table>\n",
       "</div>"
      ],
      "text/plain": [
       "          CASE_NUMBER                              combined_job_postings\n",
       "0  H-300-19274-066154  Operating large farm tractors and equipment as...\n",
       "1  H-300-19274-066174  Employer will furnish free and convenient cook...\n",
       "2  H-300-19274-066180  INBOUND 1) Advance the worker the required tra...\n",
       "3  H-300-19274-066199  For workers who are provided housing, transpor...\n",
       "4  H-300-19274-066237  The inbound transportation will be reimbursed ..."
      ]
     },
     "execution_count": 4,
     "metadata": {},
     "output_type": "execute_result"
    }
   ],
   "source": [
    "## join the job postings of the same case number together\n",
    "concatenate_job=translated_job_postings.groupby([\"CASE_NUMBER\"])['translatedText'].apply(lambda x: ''.join(x))\n",
    "# concatenate_job.head()\n",
    "## change to dataframe\n",
    "concatenate_job_data= concatenate_job.to_frame().rename(columns={'translatedText':'combined_job_postings'}).reset_index()\n",
    "concatenate_job_data.head()"
   ]
  },
  {
   "cell_type": "markdown",
   "id": "e9b95c62",
   "metadata": {},
   "source": [
    "### Create a column translated_2 for (binary variables 0 as not translated and 1 as translated)\n",
    "- here what i am trying to do is to see if a particular case_number's job posting has EVER being translated or not. since getting the max value (in this case would indicate if the case number has translated job postings). It is important to note that it would be the case that some job postings would have some part that is not translated."
   ]
  },
  {
   "cell_type": "code",
   "execution_count": 7,
   "id": "674a5cf7",
   "metadata": {},
   "outputs": [
    {
     "data": {
      "text/plain": [
       "NO     82842\n",
       "yes    16696\n",
       "Name: translated, dtype: int64"
      ]
     },
     "execution_count": 7,
     "metadata": {},
     "output_type": "execute_result"
    },
    {
     "data": {
      "text/plain": [
       "0    82842\n",
       "1    16696\n",
       "Name: translated_2, dtype: int64"
      ]
     },
     "execution_count": 7,
     "metadata": {},
     "output_type": "execute_result"
    }
   ],
   "source": [
    "## code translated column into numeric for groupby\n",
    "translated_job_postings[\"translated_2\"]=np.where(translated_job_postings.translated==\"yes\",1,0)\n",
    "## check\n",
    "translated_job_postings.translated.value_counts()\n",
    "translated_job_postings.translated_2.value_counts()"
   ]
  },
  {
   "cell_type": "code",
   "execution_count": 8,
   "id": "d43273db",
   "metadata": {},
   "outputs": [
    {
     "data": {
      "text/html": [
       "<div>\n",
       "<style scoped>\n",
       "    .dataframe tbody tr th:only-of-type {\n",
       "        vertical-align: middle;\n",
       "    }\n",
       "\n",
       "    .dataframe tbody tr th {\n",
       "        vertical-align: top;\n",
       "    }\n",
       "\n",
       "    .dataframe thead th {\n",
       "        text-align: right;\n",
       "    }\n",
       "</style>\n",
       "<table border=\"1\" class=\"dataframe\">\n",
       "  <thead>\n",
       "    <tr style=\"text-align: right;\">\n",
       "      <th></th>\n",
       "      <th>CASE_NUMBER</th>\n",
       "      <th>translated_2</th>\n",
       "    </tr>\n",
       "  </thead>\n",
       "  <tbody>\n",
       "    <tr>\n",
       "      <th>0</th>\n",
       "      <td>H-300-19274-066154</td>\n",
       "      <td>0</td>\n",
       "    </tr>\n",
       "    <tr>\n",
       "      <th>1</th>\n",
       "      <td>H-300-19274-066174</td>\n",
       "      <td>0</td>\n",
       "    </tr>\n",
       "    <tr>\n",
       "      <th>2</th>\n",
       "      <td>H-300-19274-066180</td>\n",
       "      <td>0</td>\n",
       "    </tr>\n",
       "    <tr>\n",
       "      <th>3</th>\n",
       "      <td>H-300-19274-066199</td>\n",
       "      <td>1</td>\n",
       "    </tr>\n",
       "    <tr>\n",
       "      <th>4</th>\n",
       "      <td>H-300-19274-066237</td>\n",
       "      <td>0</td>\n",
       "    </tr>\n",
       "  </tbody>\n",
       "</table>\n",
       "</div>"
      ],
      "text/plain": [
       "          CASE_NUMBER  translated_2\n",
       "0  H-300-19274-066154             0\n",
       "1  H-300-19274-066174             0\n",
       "2  H-300-19274-066180             0\n",
       "3  H-300-19274-066199             1\n",
       "4  H-300-19274-066237             0"
      ]
     },
     "execution_count": 8,
     "metadata": {},
     "output_type": "execute_result"
    },
    {
     "data": {
      "text/plain": [
       "(13530, 2)"
      ]
     },
     "execution_count": 8,
     "metadata": {},
     "output_type": "execute_result"
    }
   ],
   "source": [
    "case_translated = translated_job_postings.groupby('CASE_NUMBER')['translated_2'].max()\n",
    "case_translated= case_translated.to_frame().rename(columns={'':'ever_translated'}).reset_index()\n",
    "case_translated.head()\n",
    "case_translated.shape"
   ]
  },
  {
   "cell_type": "code",
   "execution_count": 9,
   "id": "880e562e",
   "metadata": {},
   "outputs": [
    {
     "data": {
      "text/plain": [
       "(13530, 2)"
      ]
     },
     "execution_count": 9,
     "metadata": {},
     "output_type": "execute_result"
    },
    {
     "data": {
      "text/plain": [
       "(13530, 3)"
      ]
     },
     "execution_count": 9,
     "metadata": {},
     "output_type": "execute_result"
    },
    {
     "data": {
      "text/html": [
       "<div>\n",
       "<style scoped>\n",
       "    .dataframe tbody tr th:only-of-type {\n",
       "        vertical-align: middle;\n",
       "    }\n",
       "\n",
       "    .dataframe tbody tr th {\n",
       "        vertical-align: top;\n",
       "    }\n",
       "\n",
       "    .dataframe thead th {\n",
       "        text-align: right;\n",
       "    }\n",
       "</style>\n",
       "<table border=\"1\" class=\"dataframe\">\n",
       "  <thead>\n",
       "    <tr style=\"text-align: right;\">\n",
       "      <th></th>\n",
       "      <th>CASE_NUMBER</th>\n",
       "      <th>combined_job_postings</th>\n",
       "      <th>translated_2</th>\n",
       "    </tr>\n",
       "  </thead>\n",
       "  <tbody>\n",
       "    <tr>\n",
       "      <th>0</th>\n",
       "      <td>H-300-19274-066154</td>\n",
       "      <td>Operating large farm tractors and equipment as...</td>\n",
       "      <td>0</td>\n",
       "    </tr>\n",
       "    <tr>\n",
       "      <th>1</th>\n",
       "      <td>H-300-19274-066174</td>\n",
       "      <td>Employer will furnish free and convenient cook...</td>\n",
       "      <td>0</td>\n",
       "    </tr>\n",
       "    <tr>\n",
       "      <th>2</th>\n",
       "      <td>H-300-19274-066180</td>\n",
       "      <td>INBOUND 1) Advance the worker the required tra...</td>\n",
       "      <td>0</td>\n",
       "    </tr>\n",
       "    <tr>\n",
       "      <th>3</th>\n",
       "      <td>H-300-19274-066199</td>\n",
       "      <td>For workers who are provided housing, transpor...</td>\n",
       "      <td>1</td>\n",
       "    </tr>\n",
       "    <tr>\n",
       "      <th>4</th>\n",
       "      <td>H-300-19274-066237</td>\n",
       "      <td>The inbound transportation will be reimbursed ...</td>\n",
       "      <td>0</td>\n",
       "    </tr>\n",
       "  </tbody>\n",
       "</table>\n",
       "</div>"
      ],
      "text/plain": [
       "          CASE_NUMBER                              combined_job_postings  \\\n",
       "0  H-300-19274-066154  Operating large farm tractors and equipment as...   \n",
       "1  H-300-19274-066174  Employer will furnish free and convenient cook...   \n",
       "2  H-300-19274-066180  INBOUND 1) Advance the worker the required tra...   \n",
       "3  H-300-19274-066199  For workers who are provided housing, transpor...   \n",
       "4  H-300-19274-066237  The inbound transportation will be reimbursed ...   \n",
       "\n",
       "   translated_2  \n",
       "0             0  \n",
       "1             0  \n",
       "2             0  \n",
       "3             1  \n",
       "4             0  "
      ]
     },
     "execution_count": 9,
     "metadata": {},
     "output_type": "execute_result"
    },
    {
     "data": {
      "text/plain": [
       "0    11749\n",
       "1     1781\n",
       "Name: translated_2, dtype: int64"
      ]
     },
     "execution_count": 9,
     "metadata": {},
     "output_type": "execute_result"
    }
   ],
   "source": [
    "## merge back with the concatenate_job \n",
    "concatenate_job_data.shape\n",
    "combined_certificate_postings_translated= concatenate_job_data.merge(case_translated, on='CASE_NUMBER', how='inner')\n",
    "combined_certificate_postings_translated.shape\n",
    "combined_certificate_postings_translated.head()\n",
    "combined_certificate_postings_translated.translated_2.value_counts()"
   ]
  },
  {
   "cell_type": "markdown",
   "id": "5753b325",
   "metadata": {},
   "source": [
    "## Run Text Processing"
   ]
  },
  {
   "cell_type": "markdown",
   "id": "f327fe28",
   "metadata": {},
   "source": [
    "### Define Constants"
   ]
  },
  {
   "cell_type": "code",
   "execution_count": 12,
   "id": "ef4ba3db",
   "metadata": {},
   "outputs": [],
   "source": [
    "other_stopwords = [\"after\", \"before\", \"employer\", \"employ\", \"job\", \"although\", \"provide\", \"complete\",\"hour\",\"time\",\n",
    "                  \"begin\",\"list\",\"require\",\"task\",\"transportation\",\"worker\",\"workers\",\"working\",\"work\",\"worked\",\"works\"]\n",
    "\n",
    "list_stopwords = stopwords.words(\"english\")+ other_stopwords\n",
    "\n",
    "stopwords_complete = list_stopwords + other_stopwords\n",
    "    \n",
    "porter = PorterStemmer()"
   ]
  },
  {
   "cell_type": "markdown",
   "id": "8d54c4aa",
   "metadata": {},
   "source": [
    "### Convert characters to lower case"
   ]
  },
  {
   "cell_type": "code",
   "execution_count": 48,
   "id": "bfee6e6a",
   "metadata": {},
   "outputs": [
    {
     "name": "stdout",
     "output_type": "stream",
     "text": [
      "--- 1.1177070140838623 seconds ---\n"
     ]
    }
   ],
   "source": [
    "## lower case\n",
    "start_time = time.time()\n",
    "combined_certificate_postings_translated['postings_lower']= combined_certificate_postings_translated['combined_job_postings'].apply(lambda x: x.lower())\n",
    "print(\"--- %s seconds ---\" % (time.time() - start_time))\n"
   ]
  },
  {
   "cell_type": "markdown",
   "id": "c7304e4d",
   "metadata": {},
   "source": [
    "### Tokenize the words\n"
   ]
  },
  {
   "cell_type": "code",
   "execution_count": 49,
   "id": "2e95117e",
   "metadata": {},
   "outputs": [
    {
     "name": "stdout",
     "output_type": "stream",
     "text": [
      "--- 169.00208806991577 seconds ---\n"
     ]
    }
   ],
   "source": [
    "## tokenized\n",
    "start_time = time.time()\n",
    "combined_certificate_postings_translated['postings_tokenized'] = combined_certificate_postings_translated['postings_lower'].apply(word_tokenize)\n",
    "print(\"--- %s seconds ---\" % (time.time() - start_time))"
   ]
  },
  {
   "cell_type": "markdown",
   "id": "05f80665",
   "metadata": {},
   "source": [
    "### Remove stopwords"
   ]
  },
  {
   "cell_type": "code",
   "execution_count": 51,
   "id": "62fb8ae9",
   "metadata": {},
   "outputs": [
    {
     "name": "stdout",
     "output_type": "stream",
     "text": [
      "--- 56.1389901638031 seconds ---\n"
     ]
    }
   ],
   "source": [
    "## remove stopwords\n",
    "start_time = time.time()\n",
    "combined_certificate_postings_translated['posting_without_stopwords']=combined_certificate_postings_translated['postings_tokenized'].apply(lambda x: [word for word in x if word not in stopwords_complete])\n",
    "print(\"--- %s seconds ---\" % (time.time() - start_time))"
   ]
  },
  {
   "cell_type": "markdown",
   "id": "d1a7d4b6",
   "metadata": {},
   "source": [
    "### Perform Stemming"
   ]
  },
  {
   "cell_type": "code",
   "execution_count": 52,
   "id": "dedd05b5",
   "metadata": {},
   "outputs": [
    {
     "name": "stdout",
     "output_type": "stream",
     "text": [
      "--- 314.5942647457123 seconds ---\n"
     ]
    }
   ],
   "source": [
    "## stemming \n",
    "start_time = time.time()\n",
    "combined_certificate_postings_translated['stemmed'] = combined_certificate_postings_translated['posting_without_stopwords'].apply(lambda x: [porter.stem(y)for y in x]) # Stem every word.\n",
    "print(\"--- %s seconds ---\" % (time.time() - start_time))"
   ]
  },
  {
   "cell_type": "markdown",
   "id": "1626d6bd",
   "metadata": {},
   "source": [
    "### Remove words that is less than 3 characters and punctuation"
   ]
  },
  {
   "cell_type": "code",
   "execution_count": 53,
   "id": "ecb4e53c",
   "metadata": {},
   "outputs": [
    {
     "data": {
      "text/plain": [
       "0        [oper, larg, farm, tractor, equip, well, oper,...\n",
       "1        [furnish, free, conveni, cook, kitchen, facil,...\n",
       "2        [inbound, advanc, requir, subsist, cost, other...\n",
       "3        [provid, hous, cost, provid, hous, worksit, pr...\n",
       "4        [inbound, reimburs, basi, less, requir, econom...\n",
       "                               ...                        \n",
       "13525    [inbound, subsist, reimburs, first, week, empl...\n",
       "13526    [econom, reason, charg, distanc, involv, compl...\n",
       "13527    [task, descript, constitut, assign, differ, ta...\n",
       "13528    [falsifi, identif, personnel, medic, product, ...\n",
       "13529    [clarif, assur, compens, agre, renew, compens,...\n",
       "Name: cleaned, Length: 13530, dtype: object"
      ]
     },
     "execution_count": 53,
     "metadata": {},
     "output_type": "execute_result"
    }
   ],
   "source": [
    "## keep isalpha() and the length of the word that is greater than 3\n",
    "combined_certificate_postings_translated['cleaned']=combined_certificate_postings_translated['stemmed'].apply(lambda x: [word for word in x if word.isalpha() and len(word)>3])\n",
    "combined_certificate_postings_translated['cleaned']"
   ]
  },
  {
   "cell_type": "markdown",
   "id": "2da36ad1",
   "metadata": {},
   "source": [
    "### Join back each word"
   ]
  },
  {
   "cell_type": "code",
   "execution_count": 54,
   "id": "386a13ea",
   "metadata": {},
   "outputs": [
    {
     "data": {
      "text/plain": [
       "0        oper larg farm tractor equip well oper motor v...\n",
       "1        furnish free conveni cook kitchen facil cost o...\n",
       "2        inbound advanc requir subsist cost otherwis co...\n",
       "3        provid hous cost provid hous worksit provid ac...\n",
       "4        inbound reimburs basi less requir econom reaso...\n",
       "                               ...                        \n",
       "13525    inbound subsist reimburs first week employ off...\n",
       "13526    econom reason charg distanc involv complet con...\n",
       "13527    task descript constitut assign differ task mul...\n",
       "13528    falsifi identif personnel medic product record...\n",
       "13529    clarif assur compens agre renew compens prior ...\n",
       "Name: cleaned, Length: 13530, dtype: object"
      ]
     },
     "execution_count": 54,
     "metadata": {},
     "output_type": "execute_result"
    }
   ],
   "source": [
    "combined_certificate_postings_translated['cleaned']=combined_certificate_postings_translated['cleaned'].apply(lambda x: \" \".join(x))\n",
    "combined_certificate_postings_translated['cleaned']"
   ]
  },
  {
   "cell_type": "markdown",
   "id": "2fa81308",
   "metadata": {},
   "source": [
    "## Modeling "
   ]
  },
  {
   "cell_type": "markdown",
   "id": "fe00698b",
   "metadata": {},
   "source": [
    "### Split the data into training and testing\n"
   ]
  },
  {
   "cell_type": "code",
   "execution_count": 56,
   "id": "4372545a",
   "metadata": {},
   "outputs": [],
   "source": [
    "from sklearn.model_selection import train_test_split\n",
    "train,test=train_test_split(combined_certificate_postings_translated,test_size=0.2)\n"
   ]
  },
  {
   "cell_type": "code",
   "execution_count": 57,
   "id": "52f3f14c",
   "metadata": {},
   "outputs": [],
   "source": [
    "vectorizer = TfidfVectorizer(min_df=5, max_df=0.9)"
   ]
  },
  {
   "cell_type": "markdown",
   "id": "77ff46a8",
   "metadata": {},
   "source": [
    "## Create a job postings classifier using TF-IDF"
   ]
  },
  {
   "cell_type": "code",
   "execution_count": 58,
   "id": "f782f1d0",
   "metadata": {},
   "outputs": [],
   "source": [
    "def tfidf_topwords(df,kind):\n",
    "    if kind==\"test\":\n",
    "        tf_idf = vectorizer.transform(df['cleaned'])\n",
    "    elif kind==\"train\":\n",
    "        tf_idf = vectorizer.fit_transform(df['cleaned'])\n",
    "        tf_idf = vectorizer.transform(df['cleaned'])\n",
    "    else:\n",
    "        return (\"wrong input\")\n",
    "    return tf_idf"
   ]
  },
  {
   "cell_type": "code",
   "execution_count": 59,
   "id": "5c128f5d",
   "metadata": {},
   "outputs": [],
   "source": [
    "X_train_tf=tfidf_topwords(train,\"train\")\n",
    "X_test_tf=tfidf_topwords(test,\"test\")"
   ]
  },
  {
   "cell_type": "markdown",
   "id": "b7b3470c",
   "metadata": {},
   "source": [
    "## Create and run a Multinomial Naive Bayes model+ Modeling Result "
   ]
  },
  {
   "cell_type": "code",
   "execution_count": 61,
   "id": "8a235422",
   "metadata": {},
   "outputs": [],
   "source": [
    "# y value\n",
    "train_y=train[\"translated_2\"]\n",
    "test_y=test[\"translated_2\"]"
   ]
  },
  {
   "cell_type": "code",
   "execution_count": 64,
   "id": "4b52217a",
   "metadata": {},
   "outputs": [
    {
     "data": {
      "text/plain": [
       "MultinomialNB()"
      ]
     },
     "execution_count": 64,
     "metadata": {},
     "output_type": "execute_result"
    },
    {
     "name": "stdout",
     "output_type": "stream",
     "text": [
      "               precision    recall  f1-score   support\n",
      "\n",
      "   Translated       0.95      0.99      0.97      2347\n",
      "NotTranslated       0.92      0.69      0.79       359\n",
      "\n",
      "     accuracy                           0.95      2706\n",
      "    macro avg       0.94      0.84      0.88      2706\n",
      " weighted avg       0.95      0.95      0.95      2706\n",
      "\n"
     ]
    }
   ],
   "source": [
    "naive_bayes_classifier = MultinomialNB()\n",
    "naive_bayes_classifier.fit(X_train_tf, train_y)\n",
    "y_pred = naive_bayes_classifier.predict(X_test_tf)\n",
    "print(metrics.classification_report(test_y, y_pred, target_names=['Translated', 'NotTranslated']))"
   ]
  },
  {
   "cell_type": "code",
   "execution_count": 65,
   "id": "34f9ccde",
   "metadata": {},
   "outputs": [
    {
     "name": "stdout",
     "output_type": "stream",
     "text": [
      "Confusion matrix:\n",
      "[[2325   22]\n",
      " [ 112  247]]\n"
     ]
    }
   ],
   "source": [
    "print(\"Confusion matrix:\")\n",
    "print(metrics.confusion_matrix(test_y, y_pred))"
   ]
  },
  {
   "cell_type": "markdown",
   "id": "13b04489",
   "metadata": {},
   "source": [
    "#----------------------------------------------------------------------------------------------------------------------------------------------------------------------------------#"
   ]
  },
  {
   "cell_type": "markdown",
   "id": "9d9bc01f",
   "metadata": {},
   "source": [
    "## Findings + Future Works"
   ]
  },
  {
   "cell_type": "markdown",
   "id": "9d0a9cf6",
   "metadata": {},
   "source": [
    "### The model works pretty well as the accuracy and weighted average of precision, recall and f1-score all are 0.95. This can infer that there are some specific vocabularies associated with translated and untranslated text. Notably, although the model works quite well, the data is still quite imbalanced; thus, future works should definitely tackle this shortcoming. Moreover, future research can also look into whether a text is translated or not is associated with whether the case is certified or denied."
   ]
  }
 ],
 "metadata": {
  "kernelspec": {
   "display_name": "Python 3 (ipykernel)",
   "language": "python",
   "name": "python3"
  },
  "language_info": {
   "codemirror_mode": {
    "name": "ipython",
    "version": 3
   },
   "file_extension": ".py",
   "mimetype": "text/x-python",
   "name": "python",
   "nbconvert_exporter": "python",
   "pygments_lexer": "ipython3",
   "version": "3.9.7"
  }
 },
 "nbformat": 4,
 "nbformat_minor": 5
}
